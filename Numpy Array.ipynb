{
 "cells": [
  {
   "cell_type": "markdown",
   "id": "de4e435c-bcc7-48da-84ff-f448b744f3d3",
   "metadata": {},
   "source": [
    "Basic Functions"
   ]
  },
  {
   "cell_type": "code",
   "execution_count": 1,
   "id": "addb94fe-c48b-4ab4-a375-cb145b0d2ca6",
   "metadata": {},
   "outputs": [
    {
     "name": "stdout",
     "output_type": "stream",
     "text": [
      "[[1 2 3 4]\n",
      " [5 6 7 8]]\n"
     ]
    }
   ],
   "source": [
    "import numpy as np \n",
    "arr = np.array([[1,2,3,4],[5,6,7,8]])\n",
    "print(arr)"
   ]
  },
  {
   "cell_type": "code",
   "execution_count": 2,
   "id": "fd79a023-ff82-4045-b50a-8ce12eef86de",
   "metadata": {},
   "outputs": [
    {
     "data": {
      "text/plain": [
       "(2, 4)"
      ]
     },
     "execution_count": 2,
     "metadata": {},
     "output_type": "execute_result"
    }
   ],
   "source": [
    "arr.shape"
   ]
  },
  {
   "cell_type": "code",
   "execution_count": 3,
   "id": "3d518946-61a2-4cba-b4db-5f801870a170",
   "metadata": {},
   "outputs": [
    {
     "data": {
      "text/plain": [
       "dtype('int64')"
      ]
     },
     "execution_count": 3,
     "metadata": {},
     "output_type": "execute_result"
    }
   ],
   "source": [
    "arr.dtype"
   ]
  },
  {
   "cell_type": "code",
   "execution_count": 4,
   "id": "e8c40e7e-9e6f-40a5-8afc-b9efc01703ca",
   "metadata": {},
   "outputs": [
    {
     "data": {
      "text/plain": [
       "array([[0., 0., 0., 0., 0., 0.],\n",
       "       [0., 0., 0., 0., 0., 0.],\n",
       "       [0., 0., 0., 0., 0., 0.],\n",
       "       [0., 0., 0., 0., 0., 0.]])"
      ]
     },
     "execution_count": 4,
     "metadata": {},
     "output_type": "execute_result"
    }
   ],
   "source": [
    "np.zeros((4,6))"
   ]
  },
  {
   "cell_type": "code",
   "execution_count": 5,
   "id": "2ef4abc4-98d4-4c39-b161-d3ebac733a18",
   "metadata": {},
   "outputs": [
    {
     "data": {
      "text/plain": [
       "array([[9.23920699e-312, 3.16202013e-322, 0.00000000e+000,\n",
       "        0.00000000e+000],\n",
       "       [2.04718339e-306, 2.32153320e-056, 3.79025974e+179,\n",
       "        3.69846728e-057],\n",
       "       [5.68425163e-062, 1.87087794e-051, 1.64798425e+185,\n",
       "        2.10816595e-052]])"
      ]
     },
     "execution_count": 5,
     "metadata": {},
     "output_type": "execute_result"
    }
   ],
   "source": [
    "np.empty((3,4))"
   ]
  },
  {
   "cell_type": "code",
   "execution_count": 6,
   "id": "7b23ad7d-96a0-4656-ae22-abd1f36f7e60",
   "metadata": {},
   "outputs": [
    {
     "data": {
      "text/plain": [
       "array([[1, 2, 3, 4],\n",
       "       [5, 6, 7, 8]])"
      ]
     },
     "execution_count": 6,
     "metadata": {},
     "output_type": "execute_result"
    }
   ],
   "source": [
    "arr"
   ]
  },
  {
   "cell_type": "code",
   "execution_count": 7,
   "id": "aa6a939f-f9fb-4809-a82e-6433aafce4aa",
   "metadata": {},
   "outputs": [
    {
     "data": {
      "text/plain": [
       "array([[ 1,  4,  9, 16],\n",
       "       [25, 36, 49, 64]])"
      ]
     },
     "execution_count": 7,
     "metadata": {},
     "output_type": "execute_result"
    }
   ],
   "source": [
    "arr*arr"
   ]
  },
  {
   "cell_type": "code",
   "execution_count": 8,
   "id": "a517f1a7-e313-47e7-b8ea-ae2d98519dee",
   "metadata": {},
   "outputs": [
    {
     "data": {
      "text/plain": [
       "array([[ 2,  4,  6,  8],\n",
       "       [10, 12, 14, 16]])"
      ]
     },
     "execution_count": 8,
     "metadata": {},
     "output_type": "execute_result"
    }
   ],
   "source": [
    "arr+arr"
   ]
  },
  {
   "cell_type": "code",
   "execution_count": 9,
   "id": "a50d2a8e-c2a2-4281-80e5-7e4a0777e47d",
   "metadata": {},
   "outputs": [
    {
     "data": {
      "text/plain": [
       "array([[1., 1., 1., 1.],\n",
       "       [1., 1., 1., 1.]])"
      ]
     },
     "execution_count": 9,
     "metadata": {},
     "output_type": "execute_result"
    }
   ],
   "source": [
    "arr/arr"
   ]
  },
  {
   "cell_type": "markdown",
   "id": "5b1ddf0a-e25a-4b21-9868-55e389b9f816",
   "metadata": {},
   "source": [
    "Slicing"
   ]
  },
  {
   "cell_type": "code",
   "execution_count": 10,
   "id": "b5b70b72-1563-4bb7-8034-b8e54f3aeb5e",
   "metadata": {},
   "outputs": [
    {
     "name": "stdout",
     "output_type": "stream",
     "text": [
      "[1 2 3 4 5 6 7 8 9]\n"
     ]
    }
   ],
   "source": [
    "arr1 = np.array([1,2,3,4,5,6,7,8,9])\n",
    "print(arr1)"
   ]
  },
  {
   "cell_type": "code",
   "execution_count": 14,
   "id": "11077463-cc54-4178-93d9-6119409ac5a3",
   "metadata": {},
   "outputs": [
    {
     "name": "stdout",
     "output_type": "stream",
     "text": [
      "[3 4 5 6]\n"
     ]
    }
   ],
   "source": [
    "arr2 = arr1[2:6]\n",
    "print(arr2)"
   ]
  },
  {
   "cell_type": "code",
   "execution_count": 15,
   "id": "66d67bda-5fa3-4ba5-87d0-67ae1ba6f973",
   "metadata": {},
   "outputs": [],
   "source": [
    "arr2[0] =33"
   ]
  },
  {
   "cell_type": "code",
   "execution_count": 16,
   "id": "afed4f1c-6044-4e76-a6fc-ab1975722d0f",
   "metadata": {},
   "outputs": [
    {
     "data": {
      "text/plain": [
       "array([33,  4,  5,  6])"
      ]
     },
     "execution_count": 16,
     "metadata": {},
     "output_type": "execute_result"
    }
   ],
   "source": [
    "arr2"
   ]
  },
  {
   "cell_type": "code",
   "execution_count": 17,
   "id": "82d982eb-9bcc-4e4d-a4af-d2338367c025",
   "metadata": {},
   "outputs": [
    {
     "data": {
      "text/plain": [
       "array([ 1,  2, 33,  4,  5,  6,  7,  8,  9])"
      ]
     },
     "execution_count": 17,
     "metadata": {},
     "output_type": "execute_result"
    }
   ],
   "source": [
    "arr1"
   ]
  },
  {
   "cell_type": "code",
   "execution_count": 20,
   "id": "eb24e896-b842-4696-b51d-4096ef066e1f",
   "metadata": {},
   "outputs": [],
   "source": [
    "arr3 = arr1[2:6].copy()"
   ]
  },
  {
   "cell_type": "code",
   "execution_count": 21,
   "id": "d8ae92ac-60ea-4a9f-9040-4a51bc795a1c",
   "metadata": {},
   "outputs": [
    {
     "data": {
      "text/plain": [
       "array([33,  4,  5,  6])"
      ]
     },
     "execution_count": 21,
     "metadata": {},
     "output_type": "execute_result"
    }
   ],
   "source": [
    "arr3"
   ]
  },
  {
   "cell_type": "code",
   "execution_count": null,
   "id": "63295a43-756a-4d86-9095-1e693d77b902",
   "metadata": {},
   "outputs": [],
   "source": [
    "arr3[0"
   ]
  }
 ],
 "metadata": {
  "kernelspec": {
   "display_name": "Python 3 (ipykernel)",
   "language": "python",
   "name": "python3"
  },
  "language_info": {
   "codemirror_mode": {
    "name": "ipython",
    "version": 3
   },
   "file_extension": ".py",
   "mimetype": "text/x-python",
   "name": "python",
   "nbconvert_exporter": "python",
   "pygments_lexer": "ipython3",
   "version": "3.10.6"
  }
 },
 "nbformat": 4,
 "nbformat_minor": 5
}
