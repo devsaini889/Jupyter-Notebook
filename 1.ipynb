{
 "cells": [
  {
   "cell_type": "markdown",
   "id": "9520f42c-47bb-458d-b55f-85b48c8e02a7",
   "metadata": {},
   "source": [
    "A Program to run numpy"
   ]
  },
  {
   "cell_type": "code",
   "execution_count": 1,
   "id": "97a93d04-7e12-4589-8214-97392757585c",
   "metadata": {},
   "outputs": [],
   "source": [
    "import numpy as np"
   ]
  },
  {
   "cell_type": "code",
   "execution_count": 2,
   "id": "8be60d13-51ca-4578-955c-816d4769eebe",
   "metadata": {},
   "outputs": [],
   "source": [
    "arr = np.arange(10000000)"
   ]
  },
  {
   "cell_type": "code",
   "execution_count": 3,
   "id": "79effa2e-578d-434f-9400-3d9730e7f0ae",
   "metadata": {},
   "outputs": [],
   "source": [
    "pylist = list(range(10000000))"
   ]
  },
  {
   "cell_type": "code",
   "execution_count": 4,
   "id": "9cccfe2a-04fb-4395-b3a3-ad18f7309a4a",
   "metadata": {},
   "outputs": [
    {
     "name": "stdout",
     "output_type": "stream",
     "text": [
      "CPU times: total: 8.61 s\n",
      "Wall time: 10.3 s\n"
     ]
    }
   ],
   "source": [
    "%time for _ in range(10) : [item *3 for item in pylist]"
   ]
  },
  {
   "cell_type": "code",
   "execution_count": 5,
   "id": "3818458a-e71d-4850-8d47-be8da24066c1",
   "metadata": {},
   "outputs": [
    {
     "name": "stdout",
     "output_type": "stream",
     "text": [
      "CPU times: total: 344 ms\n",
      "Wall time: 412 ms\n"
     ]
    }
   ],
   "source": [
    "%time for _ in range(10) : arr = arr*3"
   ]
  },
  {
   "cell_type": "markdown",
   "id": "12e0b8f5-d041-4fbb-bc31-1d867dc1a7d0",
   "metadata": {},
   "source": [
    "A program to create numpy array"
   ]
  },
  {
   "cell_type": "code",
   "execution_count": null,
   "id": "266628bc-31f9-4b59-a3a2-5390c41b1439",
   "metadata": {},
   "outputs": [],
   "source": []
  }
 ],
 "metadata": {
  "kernelspec": {
   "display_name": "Python 3 (ipykernel)",
   "language": "python",
   "name": "python3"
  },
  "language_info": {
   "codemirror_mode": {
    "name": "ipython",
    "version": 3
   },
   "file_extension": ".py",
   "mimetype": "text/x-python",
   "name": "python",
   "nbconvert_exporter": "python",
   "pygments_lexer": "ipython3",
   "version": "3.10.6"
  }
 },
 "nbformat": 4,
 "nbformat_minor": 5
}
