{
 "cells": [
  {
   "cell_type": "code",
   "execution_count": 1,
   "id": "94621802-4587-4495-8cf3-b1d20f9d9008",
   "metadata": {},
   "outputs": [],
   "source": [
    "import numpy as np \n"
   ]
  },
  {
   "cell_type": "code",
   "execution_count": 2,
   "id": "47cc77d7-2e11-4e36-b20f-7dcfee63ceb5",
   "metadata": {},
   "outputs": [],
   "source": [
    "arr = np.array([[1,2,3],[5,6,7],[1,2,3]])\n"
   ]
  },
  {
   "cell_type": "code",
   "execution_count": 3,
   "id": "c47c28c3-481d-40e3-81f7-53ca4b3799aa",
   "metadata": {},
   "outputs": [
    {
     "data": {
      "text/plain": [
       "array([[1, 2, 3],\n",
       "       [5, 6, 7],\n",
       "       [1, 2, 3]])"
      ]
     },
     "execution_count": 3,
     "metadata": {},
     "output_type": "execute_result"
    }
   ],
   "source": [
    "arr\n"
   ]
  },
  {
   "cell_type": "code",
   "execution_count": 4,
   "id": "6e22ac4b-387c-4b3c-ac52-73217146cb76",
   "metadata": {},
   "outputs": [
    {
     "data": {
      "text/plain": [
       "array([ 6, 18,  6])"
      ]
     },
     "execution_count": 4,
     "metadata": {},
     "output_type": "execute_result"
    }
   ],
   "source": [
    "arr.sum(axis = 1)"
   ]
  },
  {
   "cell_type": "code",
   "execution_count": 5,
   "id": "dfc26f20-f58b-47a3-b20c-c55bf7837e8d",
   "metadata": {},
   "outputs": [
    {
     "data": {
      "text/plain": [
       "array([ 7, 10, 13])"
      ]
     },
     "execution_count": 5,
     "metadata": {},
     "output_type": "execute_result"
    }
   ],
   "source": [
    "arr.sum(axis = 0)"
   ]
  },
  {
   "cell_type": "code",
   "execution_count": 6,
   "id": "25c17b6c-d9b1-4ea2-a0a2-1fac9ce32b46",
   "metadata": {},
   "outputs": [],
   "source": [
    "arr1 = np.array([[11,22,33],[55,66,77],[11,22,33]])\n"
   ]
  },
  {
   "cell_type": "code",
   "execution_count": 7,
   "id": "c4855ff1-70d7-403e-bea1-0eeeb0369825",
   "metadata": {},
   "outputs": [
    {
     "data": {
      "text/plain": [
       "array([[ 154,  418,  154],\n",
       "       [ 418, 1210,  418],\n",
       "       [ 154,  418,  154]])"
      ]
     },
     "execution_count": 7,
     "metadata": {},
     "output_type": "execute_result"
    }
   ],
   "source": [
    "np.dot(arr,arr1.transpose())"
   ]
  },
  {
   "cell_type": "code",
   "execution_count": 8,
   "id": "08cb6503-4fb7-4590-a90f-b8d3f27528e1",
   "metadata": {},
   "outputs": [
    {
     "data": {
      "text/plain": [
       "array([[0, 0, 0],\n",
       "       [0, 0, 0],\n",
       "       [0, 0, 0]])"
      ]
     },
     "execution_count": 8,
     "metadata": {},
     "output_type": "execute_result"
    }
   ],
   "source": [
    "np.cross(arr,arr1)"
   ]
  },
  {
   "cell_type": "code",
   "execution_count": null,
   "id": "9a000ab8-0f86-4f4c-8124-652cc42280a3",
   "metadata": {},
   "outputs": [],
   "source": []
  }
 ],
 "metadata": {
  "kernelspec": {
   "display_name": "Python 3 (ipykernel)",
   "language": "python",
   "name": "python3"
  },
  "language_info": {
   "codemirror_mode": {
    "name": "ipython",
    "version": 3
   },
   "file_extension": ".py",
   "mimetype": "text/x-python",
   "name": "python",
   "nbconvert_exporter": "python",
   "pygments_lexer": "ipython3",
   "version": "3.10.6"
  }
 },
 "nbformat": 4,
 "nbformat_minor": 5
}
